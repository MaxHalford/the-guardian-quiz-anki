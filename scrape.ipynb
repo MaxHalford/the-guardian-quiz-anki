{
 "cells": [
  {
   "cell_type": "markdown",
   "metadata": {},
   "source": [
    "# The Guardian weekly quiz by Thomas Eaton"
   ]
  },
  {
   "cell_type": "code",
   "execution_count": 143,
   "metadata": {},
   "outputs": [],
   "source": [
    "import datetime as dt\n",
    "import itertools\n",
    "import json\n",
    "import pathlib\n",
    "\n",
    "import bs4\n",
    "import requests\n",
    "\n",
    "url = 'https://www.theguardian.com/theguardian/series/the-quiz-thomas-eaton?page=%d'\n",
    "date_urls = json.load(pathlib.Path('date_urls.json').open())\n",
    "done = False\n",
    "page_no = 0\n",
    "\n",
    "while not done:\n",
    "    page_no += 1\n",
    "\n",
    "    response = requests.get(url % page_no)\n",
    "    soup = bs4.BeautifulSoup(response.text, 'html.parser')\n",
    "    week_sections = soup.find_all('section', class_='fc-container')\n",
    "\n",
    "    for ws in week_sections:\n",
    "        ws_date = dt.datetime.strptime(ws.get('data-id'), '%d %B %Y').date()\n",
    "\n",
    "        if ws_date <= max(dt.date.fromisoformat(d) for d in date_urls.keys()):\n",
    "            done = True\n",
    "            break\n",
    "\n",
    "        ws_link = next(\n",
    "            link.get('href')\n",
    "            for link in ws.find_all('a')\n",
    "            if link.get('href').startswith('https://www.theguardian.com/lifeandstyle')\n",
    "        )\n",
    "\n",
    "        ws_response = requests.get(ws_link)\n",
    "        ws_soup = bs4.BeautifulSoup(ws_response.text, 'html.parser')\n",
    "        ws_questions_h2 = ws_soup.find('h2', id='the-questions')\n",
    "        ws_questions_p = ws_questions_h2.find_next_sibling('p')\n",
    "        ws_questions = [\n",
    "            tag.text.strip()\n",
    "            for tag in itertools.takewhile(lambda x: 'What links:' not in x, ws_questions_p.children)\n",
    "            if isinstance(tag, bs4.element.NavigableString)\n",
    "        ]\n",
    "\n",
    "        ws_answers_h2 = ws_soup.find('h2', id='the-answers')\n",
    "        ws_answers_p = ws_answers_h2.find_next_sibling('p')\n",
    "        ws_answers = [\n",
    "            tag.text.strip().rstrip('.')\n",
    "            for tag in ws_answers_p.children\n",
    "            if isinstance(tag, bs4.element.NavigableString)\n",
    "        ]\n",
    "        ws_question_answers = dict(zip(ws_questions, ws_answers))\n",
    "\n",
    "        output = pathlib.Path(f\"{ws_date.strftime('%Y/%m/%d')}.json\")\n",
    "        output.parent.mkdir(parents=True, exist_ok=True)\n",
    "        output.write_text(json.dumps(ws_question_answers, indent=4))\n",
    "\n",
    "        date_urls[ws_date.isoformat()] = ws_link\n",
    "        pathlib.Path('date_urls.json').write_text(json.dumps(date_urls, indent=4, sort_keys=True))"
   ]
  }
 ],
 "metadata": {
  "kernelspec": {
   "display_name": "Python 3",
   "language": "python",
   "name": "python3"
  },
  "language_info": {
   "codemirror_mode": {
    "name": "ipython",
    "version": 3
   },
   "file_extension": ".py",
   "mimetype": "text/x-python",
   "name": "python",
   "nbconvert_exporter": "python",
   "pygments_lexer": "ipython3",
   "version": "3.11.0"
  }
 },
 "nbformat": 4,
 "nbformat_minor": 2
}
